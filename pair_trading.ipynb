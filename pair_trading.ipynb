{
 "cells": [
  {
   "cell_type": "code",
   "execution_count": 1,
   "metadata": {},
   "outputs": [],
   "source": [
    "import pandas as pd\n",
    "import numpy as np\n",
    "from pandas.tseries.offsets import MonthEnd\n",
    "import datetime\n",
    "import matplotlib.pyplot as plt\n",
    "import statsmodels.formula.api as smf\n",
    "from statsmodels.tsa.stattools import coint\n",
    "import warnings\n",
    "warnings.simplefilter('ignore')"
   ]
  },
  {
   "cell_type": "markdown",
   "metadata": {},
   "source": [
    "This a investments  strategyment about pair trading: we want to find two stocks (one pair) such that their price movement should be similar:  \n",
    "- For exmaple, if we think the stock prices of Facebook and Google are one pair, that is to said, if the price of Facebook goes up, then Google will also goes up\n",
    "- Which is to say, the price difference of one pair should usually around 0, or technically, normalized with mean zero and a fixed standard deviation"
   ]
  },
  {
   "cell_type": "markdown",
   "metadata": {},
   "source": [
    "The implement of this pair trading startegy would follow these steps:\n",
    "- Upload data\n",
    "- Data engeering: to define a pair, we need data from the stock market including price and volume, and the data from the stocks' financial statement such as  earnings\n",
    "- Pairs formation: we will use the data in the previous step to compute pairs\n",
    "- Investing and rebalancing: we will do this in a rolling base. For example, we will use data during 2006 - 2010 (five years) to decide pairs (we will invest in 100 pair for diversification), and then invest those pairs in 2011 (one year); and then use 2007 - 2011 to decide the trading in 2012"
   ]
  },
  {
   "cell_type": "markdown",
   "metadata": {},
   "source": [
    "The traditional method for defining one pair is to compute the standard deviation of their price difference. In this notebook, beside the traditional method, we will also try one more novel method, which will be explained in the following part"
   ]
  },
  {
   "cell_type": "markdown",
   "metadata": {},
   "source": [
    "# upload data"
   ]
  },
  {
   "cell_type": "markdown",
   "metadata": {},
   "source": [
    "- rf: risk free rate will be used to compute excess return,\n",
    "- stocks: stock market data includes stock ticks(PERMNO), price(PRC), volume(VOL), return(RET), and share outstanding(SHROUT); note that we those are monthly data, because daily price may contain more noise\n",
    "- cstat: compustat annual data provides companies' annual financial statement"
   ]
  },
  {
   "cell_type": "code",
   "execution_count": 2,
   "metadata": {},
   "outputs": [],
   "source": [
    "rf = pd.read_csv('risk-free_return.csv', parse_dates=[0], index_col=[0])\n",
    "stocks = pd.read_hdf('crsp_monthly_stocks.h5', 'crsp')\n",
    "cstat  = pd.read_hdf('compustat_annual.h5', 'cstat')"
   ]
  },
  {
   "cell_type": "code",
   "execution_count": 3,
   "metadata": {},
   "outputs": [
    {
     "data": {
      "text/html": [
       "<div>\n",
       "<style scoped>\n",
       "    .dataframe tbody tr th:only-of-type {\n",
       "        vertical-align: middle;\n",
       "    }\n",
       "\n",
       "    .dataframe tbody tr th {\n",
       "        vertical-align: top;\n",
       "    }\n",
       "\n",
       "    .dataframe thead th {\n",
       "        text-align: right;\n",
       "    }\n",
       "</style>\n",
       "<table border=\"1\" class=\"dataframe\">\n",
       "  <thead>\n",
       "    <tr style=\"text-align: right;\">\n",
       "      <th></th>\n",
       "      <th>PERMNO</th>\n",
       "      <th>DATE</th>\n",
       "      <th>SHRCD</th>\n",
       "      <th>EXCHCD</th>\n",
       "      <th>SICCD</th>\n",
       "      <th>PRC</th>\n",
       "      <th>VOL</th>\n",
       "      <th>RET</th>\n",
       "      <th>SHROUT</th>\n",
       "    </tr>\n",
       "  </thead>\n",
       "  <tbody>\n",
       "    <tr>\n",
       "      <th>0</th>\n",
       "      <td>10000.0</td>\n",
       "      <td>1986-01-31</td>\n",
       "      <td>10.0</td>\n",
       "      <td>3.0</td>\n",
       "      <td>3990.0</td>\n",
       "      <td>-4.375000</td>\n",
       "      <td>1771.0</td>\n",
       "      <td>NaN</td>\n",
       "      <td>3680.0</td>\n",
       "    </tr>\n",
       "    <tr>\n",
       "      <th>1</th>\n",
       "      <td>10000.0</td>\n",
       "      <td>1986-02-28</td>\n",
       "      <td>10.0</td>\n",
       "      <td>3.0</td>\n",
       "      <td>3990.0</td>\n",
       "      <td>-3.250000</td>\n",
       "      <td>828.0</td>\n",
       "      <td>-0.257143</td>\n",
       "      <td>3680.0</td>\n",
       "    </tr>\n",
       "    <tr>\n",
       "      <th>2</th>\n",
       "      <td>10000.0</td>\n",
       "      <td>1986-03-31</td>\n",
       "      <td>10.0</td>\n",
       "      <td>3.0</td>\n",
       "      <td>3990.0</td>\n",
       "      <td>-4.437500</td>\n",
       "      <td>1078.0</td>\n",
       "      <td>0.365385</td>\n",
       "      <td>3680.0</td>\n",
       "    </tr>\n",
       "    <tr>\n",
       "      <th>3</th>\n",
       "      <td>10000.0</td>\n",
       "      <td>1986-04-30</td>\n",
       "      <td>10.0</td>\n",
       "      <td>3.0</td>\n",
       "      <td>3990.0</td>\n",
       "      <td>-4.000000</td>\n",
       "      <td>957.0</td>\n",
       "      <td>-0.098592</td>\n",
       "      <td>3793.0</td>\n",
       "    </tr>\n",
       "    <tr>\n",
       "      <th>4</th>\n",
       "      <td>10000.0</td>\n",
       "      <td>1986-05-30</td>\n",
       "      <td>10.0</td>\n",
       "      <td>3.0</td>\n",
       "      <td>3990.0</td>\n",
       "      <td>-3.109375</td>\n",
       "      <td>1074.0</td>\n",
       "      <td>-0.222656</td>\n",
       "      <td>3793.0</td>\n",
       "    </tr>\n",
       "  </tbody>\n",
       "</table>\n",
       "</div>"
      ],
      "text/plain": [
       "    PERMNO       DATE  SHRCD  EXCHCD   SICCD       PRC     VOL       RET  \\\n",
       "0  10000.0 1986-01-31   10.0     3.0  3990.0 -4.375000  1771.0       NaN   \n",
       "1  10000.0 1986-02-28   10.0     3.0  3990.0 -3.250000   828.0 -0.257143   \n",
       "2  10000.0 1986-03-31   10.0     3.0  3990.0 -4.437500  1078.0  0.365385   \n",
       "3  10000.0 1986-04-30   10.0     3.0  3990.0 -4.000000   957.0 -0.098592   \n",
       "4  10000.0 1986-05-30   10.0     3.0  3990.0 -3.109375  1074.0 -0.222656   \n",
       "\n",
       "   SHROUT  \n",
       "0  3680.0  \n",
       "1  3680.0  \n",
       "2  3680.0  \n",
       "3  3793.0  \n",
       "4  3793.0  "
      ]
     },
     "execution_count": 3,
     "metadata": {},
     "output_type": "execute_result"
    }
   ],
   "source": [
    "stocks.head()"
   ]
  },
  {
   "cell_type": "code",
   "execution_count": 4,
   "metadata": {},
   "outputs": [
    {
     "data": {
      "text/html": [
       "<div>\n",
       "<style scoped>\n",
       "    .dataframe tbody tr th:only-of-type {\n",
       "        vertical-align: middle;\n",
       "    }\n",
       "\n",
       "    .dataframe tbody tr th {\n",
       "        vertical-align: top;\n",
       "    }\n",
       "\n",
       "    .dataframe thead th {\n",
       "        text-align: right;\n",
       "    }\n",
       "</style>\n",
       "<table border=\"1\" class=\"dataframe\">\n",
       "  <thead>\n",
       "    <tr style=\"text-align: right;\">\n",
       "      <th></th>\n",
       "      <th>DATADATE</th>\n",
       "      <th>FYEAR</th>\n",
       "      <th>LPERMNO</th>\n",
       "      <th>AT</th>\n",
       "      <th>CEQ</th>\n",
       "      <th>LT</th>\n",
       "      <th>PSTK</th>\n",
       "      <th>SEQ</th>\n",
       "      <th>IB</th>\n",
       "      <th>CAPX</th>\n",
       "    </tr>\n",
       "  </thead>\n",
       "  <tbody>\n",
       "    <tr>\n",
       "      <th>0</th>\n",
       "      <td>1970-12-31</td>\n",
       "      <td>1970.0</td>\n",
       "      <td>25881.0</td>\n",
       "      <td>33.450</td>\n",
       "      <td>10.544</td>\n",
       "      <td>22.906</td>\n",
       "      <td>0.000</td>\n",
       "      <td>10.544</td>\n",
       "      <td>1.878</td>\n",
       "      <td>2.767</td>\n",
       "    </tr>\n",
       "    <tr>\n",
       "      <th>1</th>\n",
       "      <td>1971-12-31</td>\n",
       "      <td>1971.0</td>\n",
       "      <td>25881.0</td>\n",
       "      <td>29.330</td>\n",
       "      <td>8.381</td>\n",
       "      <td>20.948</td>\n",
       "      <td>0.000</td>\n",
       "      <td>8.382</td>\n",
       "      <td>0.138</td>\n",
       "      <td>1.771</td>\n",
       "    </tr>\n",
       "    <tr>\n",
       "      <th>2</th>\n",
       "      <td>1972-12-31</td>\n",
       "      <td>1972.0</td>\n",
       "      <td>25881.0</td>\n",
       "      <td>19.907</td>\n",
       "      <td>7.021</td>\n",
       "      <td>12.886</td>\n",
       "      <td>0.000</td>\n",
       "      <td>7.021</td>\n",
       "      <td>1.554</td>\n",
       "      <td>1.254</td>\n",
       "    </tr>\n",
       "    <tr>\n",
       "      <th>3</th>\n",
       "      <td>1973-12-31</td>\n",
       "      <td>1973.0</td>\n",
       "      <td>25881.0</td>\n",
       "      <td>21.771</td>\n",
       "      <td>8.567</td>\n",
       "      <td>13.204</td>\n",
       "      <td>0.000</td>\n",
       "      <td>8.567</td>\n",
       "      <td>1.863</td>\n",
       "      <td>1.633</td>\n",
       "    </tr>\n",
       "    <tr>\n",
       "      <th>4</th>\n",
       "      <td>1974-12-31</td>\n",
       "      <td>1974.0</td>\n",
       "      <td>25881.0</td>\n",
       "      <td>25.638</td>\n",
       "      <td>9.843</td>\n",
       "      <td>15.381</td>\n",
       "      <td>0.414</td>\n",
       "      <td>10.257</td>\n",
       "      <td>1.555</td>\n",
       "      <td>1.313</td>\n",
       "    </tr>\n",
       "  </tbody>\n",
       "</table>\n",
       "</div>"
      ],
      "text/plain": [
       "    DATADATE   FYEAR  LPERMNO      AT     CEQ      LT   PSTK     SEQ     IB  \\\n",
       "0 1970-12-31  1970.0  25881.0  33.450  10.544  22.906  0.000  10.544  1.878   \n",
       "1 1971-12-31  1971.0  25881.0  29.330   8.381  20.948  0.000   8.382  0.138   \n",
       "2 1972-12-31  1972.0  25881.0  19.907   7.021  12.886  0.000   7.021  1.554   \n",
       "3 1973-12-31  1973.0  25881.0  21.771   8.567  13.204  0.000   8.567  1.863   \n",
       "4 1974-12-31  1974.0  25881.0  25.638   9.843  15.381  0.414  10.257  1.555   \n",
       "\n",
       "    CAPX  \n",
       "0  2.767  \n",
       "1  1.771  \n",
       "2  1.254  \n",
       "3  1.633  \n",
       "4  1.313  "
      ]
     },
     "execution_count": 4,
     "metadata": {},
     "output_type": "execute_result"
    }
   ],
   "source": [
    "cstat.head()"
   ]
  },
  {
   "cell_type": "markdown",
   "metadata": {},
   "source": [
    "# Data engeering"
   ]
  },
  {
   "cell_type": "markdown",
   "metadata": {},
   "source": [
    "### Stock market data:"
   ]
  },
  {
   "cell_type": "markdown",
   "metadata": {},
   "source": [
    "Two particular issues about crsp_monthly_stocks: \n",
    "- we are using monthly price data, but some of the price date is not the last day of the month. In order to efficiently merger with accounting data later, we will force the date to be the last day of the month\n",
    "- some price was added with a negative sign, this should be a error of the data, we take the absolute value for all price "
   ]
  },
  {
   "cell_type": "code",
   "execution_count": 5,
   "metadata": {},
   "outputs": [],
   "source": [
    "stocks['DATE'] = stocks['DATE'] + MonthEnd(0)\n",
    "stocks['PRC']  = np.abs(stocks['PRC'])"
   ]
  },
  {
   "cell_type": "markdown",
   "metadata": {},
   "source": [
    "From the stock data, we will only use four features:\n",
    "- industru code\n",
    "- stock monthly price\n",
    "- stock monthly return\n",
    "- stock market volume: shares multiples price"
   ]
  },
  {
   "cell_type": "code",
   "execution_count": 6,
   "metadata": {},
   "outputs": [
    {
     "data": {
      "text/html": [
       "<div>\n",
       "<style scoped>\n",
       "    .dataframe tbody tr th:only-of-type {\n",
       "        vertical-align: middle;\n",
       "    }\n",
       "\n",
       "    .dataframe tbody tr th {\n",
       "        vertical-align: top;\n",
       "    }\n",
       "\n",
       "    .dataframe thead th {\n",
       "        text-align: right;\n",
       "    }\n",
       "</style>\n",
       "<table border=\"1\" class=\"dataframe\">\n",
       "  <thead>\n",
       "    <tr style=\"text-align: right;\">\n",
       "      <th></th>\n",
       "      <th></th>\n",
       "      <th>SICCD</th>\n",
       "      <th>PRC</th>\n",
       "      <th>RET</th>\n",
       "      <th>MV</th>\n",
       "    </tr>\n",
       "    <tr>\n",
       "      <th>PERMNO</th>\n",
       "      <th>DATE</th>\n",
       "      <th></th>\n",
       "      <th></th>\n",
       "      <th></th>\n",
       "      <th></th>\n",
       "    </tr>\n",
       "  </thead>\n",
       "  <tbody>\n",
       "    <tr>\n",
       "      <th rowspan=\"5\" valign=\"top\">10000.0</th>\n",
       "      <th>1986-01-31</th>\n",
       "      <td>3990.0</td>\n",
       "      <td>4.375000</td>\n",
       "      <td>NaN</td>\n",
       "      <td>16100.000000</td>\n",
       "    </tr>\n",
       "    <tr>\n",
       "      <th>1986-02-28</th>\n",
       "      <td>3990.0</td>\n",
       "      <td>3.250000</td>\n",
       "      <td>-0.257143</td>\n",
       "      <td>11960.000000</td>\n",
       "    </tr>\n",
       "    <tr>\n",
       "      <th>1986-03-31</th>\n",
       "      <td>3990.0</td>\n",
       "      <td>4.437500</td>\n",
       "      <td>0.365385</td>\n",
       "      <td>16330.000000</td>\n",
       "    </tr>\n",
       "    <tr>\n",
       "      <th>1986-04-30</th>\n",
       "      <td>3990.0</td>\n",
       "      <td>4.000000</td>\n",
       "      <td>-0.098592</td>\n",
       "      <td>15172.000000</td>\n",
       "    </tr>\n",
       "    <tr>\n",
       "      <th>1986-05-31</th>\n",
       "      <td>3990.0</td>\n",
       "      <td>3.109375</td>\n",
       "      <td>-0.222656</td>\n",
       "      <td>11793.859375</td>\n",
       "    </tr>\n",
       "  </tbody>\n",
       "</table>\n",
       "</div>"
      ],
      "text/plain": [
       "                     SICCD       PRC       RET            MV\n",
       "PERMNO  DATE                                                \n",
       "10000.0 1986-01-31  3990.0  4.375000       NaN  16100.000000\n",
       "        1986-02-28  3990.0  3.250000 -0.257143  11960.000000\n",
       "        1986-03-31  3990.0  4.437500  0.365385  16330.000000\n",
       "        1986-04-30  3990.0  4.000000 -0.098592  15172.000000\n",
       "        1986-05-31  3990.0  3.109375 -0.222656  11793.859375"
      ]
     },
     "execution_count": 6,
     "metadata": {},
     "output_type": "execute_result"
    }
   ],
   "source": [
    "stocks['MV'] = stocks['SHROUT']*stocks['PRC']\n",
    "stocks.drop(['SHROUT','SHRCD','EXCHCD','VOL'], axis=1, inplace=True)\n",
    "stocks.set_index(['PERMNO','DATE'], inplace=True)\n",
    "stocks.sort_index(inplace=True)\n",
    "stocks.head()"
   ]
  },
  {
   "cell_type": "markdown",
   "metadata": {},
   "source": [
    "### Financial statement data: compustat"
   ]
  },
  {
   "cell_type": "markdown",
   "metadata": {},
   "source": [
    "Compustat shows the company's financial situation at a particular time, but we cannot get access to those data that time. Investors have to wait until the company release its financial statement. \n",
    "\n",
    "As Fama French, we assume the company's financial statemnet will be available after half a year. e.g: financial statement at 2000-06-30 will be lease at 2000-12-31\n",
    "\n",
    "Also, force the date to be the last day of the month"
   ]
  },
  {
   "cell_type": "code",
   "execution_count": 7,
   "metadata": {},
   "outputs": [
    {
     "data": {
      "text/html": [
       "<div>\n",
       "<style scoped>\n",
       "    .dataframe tbody tr th:only-of-type {\n",
       "        vertical-align: middle;\n",
       "    }\n",
       "\n",
       "    .dataframe tbody tr th {\n",
       "        vertical-align: top;\n",
       "    }\n",
       "\n",
       "    .dataframe thead th {\n",
       "        text-align: right;\n",
       "    }\n",
       "</style>\n",
       "<table border=\"1\" class=\"dataframe\">\n",
       "  <thead>\n",
       "    <tr style=\"text-align: right;\">\n",
       "      <th></th>\n",
       "      <th></th>\n",
       "      <th>DATADATE</th>\n",
       "      <th>FYEAR</th>\n",
       "      <th>AT</th>\n",
       "      <th>CEQ</th>\n",
       "      <th>LT</th>\n",
       "      <th>PSTK</th>\n",
       "      <th>SEQ</th>\n",
       "      <th>IB</th>\n",
       "      <th>CAPX</th>\n",
       "    </tr>\n",
       "    <tr>\n",
       "      <th>PERMNO</th>\n",
       "      <th>DATE</th>\n",
       "      <th></th>\n",
       "      <th></th>\n",
       "      <th></th>\n",
       "      <th></th>\n",
       "      <th></th>\n",
       "      <th></th>\n",
       "      <th></th>\n",
       "      <th></th>\n",
       "      <th></th>\n",
       "    </tr>\n",
       "  </thead>\n",
       "  <tbody>\n",
       "    <tr>\n",
       "      <th>10000.0</th>\n",
       "      <th>1987-04-30</th>\n",
       "      <td>1986-10-31</td>\n",
       "      <td>1986.0</td>\n",
       "      <td>2.115</td>\n",
       "      <td>0.418</td>\n",
       "      <td>1.697</td>\n",
       "      <td>0.0</td>\n",
       "      <td>0.418</td>\n",
       "      <td>-0.730</td>\n",
       "      <td>0.240</td>\n",
       "    </tr>\n",
       "    <tr>\n",
       "      <th rowspan=\"4\" valign=\"top\">10001.0</th>\n",
       "      <th>1986-12-31</th>\n",
       "      <td>1986-06-30</td>\n",
       "      <td>1986.0</td>\n",
       "      <td>12.242</td>\n",
       "      <td>5.432</td>\n",
       "      <td>6.810</td>\n",
       "      <td>0.0</td>\n",
       "      <td>5.432</td>\n",
       "      <td>0.669</td>\n",
       "      <td>0.551</td>\n",
       "    </tr>\n",
       "    <tr>\n",
       "      <th>1987-12-31</th>\n",
       "      <td>1987-06-30</td>\n",
       "      <td>1987.0</td>\n",
       "      <td>11.771</td>\n",
       "      <td>5.369</td>\n",
       "      <td>6.402</td>\n",
       "      <td>0.0</td>\n",
       "      <td>5.369</td>\n",
       "      <td>0.312</td>\n",
       "      <td>0.513</td>\n",
       "    </tr>\n",
       "    <tr>\n",
       "      <th>1988-12-31</th>\n",
       "      <td>1988-06-30</td>\n",
       "      <td>1988.0</td>\n",
       "      <td>11.735</td>\n",
       "      <td>5.512</td>\n",
       "      <td>6.223</td>\n",
       "      <td>0.0</td>\n",
       "      <td>5.512</td>\n",
       "      <td>0.542</td>\n",
       "      <td>0.240</td>\n",
       "    </tr>\n",
       "    <tr>\n",
       "      <th>1989-12-31</th>\n",
       "      <td>1989-06-30</td>\n",
       "      <td>1989.0</td>\n",
       "      <td>18.565</td>\n",
       "      <td>6.321</td>\n",
       "      <td>12.244</td>\n",
       "      <td>0.0</td>\n",
       "      <td>6.321</td>\n",
       "      <td>1.208</td>\n",
       "      <td>0.444</td>\n",
       "    </tr>\n",
       "  </tbody>\n",
       "</table>\n",
       "</div>"
      ],
      "text/plain": [
       "                     DATADATE   FYEAR      AT    CEQ      LT  PSTK    SEQ  \\\n",
       "PERMNO  DATE                                                                \n",
       "10000.0 1987-04-30 1986-10-31  1986.0   2.115  0.418   1.697   0.0  0.418   \n",
       "10001.0 1986-12-31 1986-06-30  1986.0  12.242  5.432   6.810   0.0  5.432   \n",
       "        1987-12-31 1987-06-30  1987.0  11.771  5.369   6.402   0.0  5.369   \n",
       "        1988-12-31 1988-06-30  1988.0  11.735  5.512   6.223   0.0  5.512   \n",
       "        1989-12-31 1989-06-30  1989.0  18.565  6.321  12.244   0.0  6.321   \n",
       "\n",
       "                       IB   CAPX  \n",
       "PERMNO  DATE                      \n",
       "10000.0 1987-04-30 -0.730  0.240  \n",
       "10001.0 1986-12-31  0.669  0.551  \n",
       "        1987-12-31  0.312  0.513  \n",
       "        1988-12-31  0.542  0.240  \n",
       "        1989-12-31  1.208  0.444  "
      ]
     },
     "execution_count": 7,
     "metadata": {},
     "output_type": "execute_result"
    }
   ],
   "source": [
    "cstat['DATE'] = cstat['DATADATE'] + pd.DateOffset(months=6)\n",
    "cstat['DATE'] = cstat['DATE'] + MonthEnd(0)\n",
    "\n",
    "# LPERMNO in compustat means the stock tick, which ia the same as PERMNO in stock data\n",
    "cstat.rename(index=str, columns={\"LPERMNO\":\"PERMNO\"}, inplace=True) \n",
    "\n",
    "cstat.set_index(['PERMNO','DATE'], inplace=True)\n",
    "cstat.sort_index(inplace=True)\n",
    "cstat.head()"
   ]
  },
  {
   "cell_type": "markdown",
   "metadata": {},
   "source": [
    "### Merger data of cstat into stock "
   ]
  },
  {
   "cell_type": "markdown",
   "metadata": {},
   "source": [
    "We use price(or return) information to define a pair. However, before that, we should consider the economic meanings of being a pair. \n",
    "\n",
    "In the Fama French three factors model, Fama thinks size factor and value/growth factor are the two specific factors (desides market factor) that can influence stocks' price. \n",
    "\n",
    "Thus, we will use market volume, P/E ratio, and industry code to define a stock category, and only consider pairs in the same category\n",
    "\n",
    "we wil use earnings before extraordinary items (IB) in cstat to compute the P/E ratio"
   ]
  },
  {
   "cell_type": "code",
   "execution_count": 8,
   "metadata": {},
   "outputs": [
    {
     "data": {
      "text/html": [
       "<div>\n",
       "<style scoped>\n",
       "    .dataframe tbody tr th:only-of-type {\n",
       "        vertical-align: middle;\n",
       "    }\n",
       "\n",
       "    .dataframe tbody tr th {\n",
       "        vertical-align: top;\n",
       "    }\n",
       "\n",
       "    .dataframe thead th {\n",
       "        text-align: right;\n",
       "    }\n",
       "</style>\n",
       "<table border=\"1\" class=\"dataframe\">\n",
       "  <thead>\n",
       "    <tr style=\"text-align: right;\">\n",
       "      <th></th>\n",
       "      <th></th>\n",
       "      <th>SICCD</th>\n",
       "      <th>PRC</th>\n",
       "      <th>MV</th>\n",
       "      <th>XRET</th>\n",
       "      <th>IB</th>\n",
       "    </tr>\n",
       "    <tr>\n",
       "      <th>PERMNO</th>\n",
       "      <th>DATE</th>\n",
       "      <th></th>\n",
       "      <th></th>\n",
       "      <th></th>\n",
       "      <th></th>\n",
       "      <th></th>\n",
       "    </tr>\n",
       "  </thead>\n",
       "  <tbody>\n",
       "    <tr>\n",
       "      <th rowspan=\"5\" valign=\"top\">10000.0</th>\n",
       "      <th>1986-01-31</th>\n",
       "      <td>3990.0</td>\n",
       "      <td>4.375000</td>\n",
       "      <td>16100.000000</td>\n",
       "      <td>NaN</td>\n",
       "      <td>NaN</td>\n",
       "    </tr>\n",
       "    <tr>\n",
       "      <th>1986-02-28</th>\n",
       "      <td>3990.0</td>\n",
       "      <td>3.250000</td>\n",
       "      <td>11960.000000</td>\n",
       "      <td>-0.262443</td>\n",
       "      <td>NaN</td>\n",
       "    </tr>\n",
       "    <tr>\n",
       "      <th>1986-03-31</th>\n",
       "      <td>3990.0</td>\n",
       "      <td>4.437500</td>\n",
       "      <td>16330.000000</td>\n",
       "      <td>0.359385</td>\n",
       "      <td>NaN</td>\n",
       "    </tr>\n",
       "    <tr>\n",
       "      <th>1986-04-30</th>\n",
       "      <td>3990.0</td>\n",
       "      <td>4.000000</td>\n",
       "      <td>15172.000000</td>\n",
       "      <td>-0.103792</td>\n",
       "      <td>NaN</td>\n",
       "    </tr>\n",
       "    <tr>\n",
       "      <th>1986-05-31</th>\n",
       "      <td>3990.0</td>\n",
       "      <td>3.109375</td>\n",
       "      <td>11793.859375</td>\n",
       "      <td>-0.227556</td>\n",
       "      <td>NaN</td>\n",
       "    </tr>\n",
       "  </tbody>\n",
       "</table>\n",
       "</div>"
      ],
      "text/plain": [
       "                     SICCD       PRC            MV      XRET  IB\n",
       "PERMNO  DATE                                                    \n",
       "10000.0 1986-01-31  3990.0  4.375000  16100.000000       NaN NaN\n",
       "        1986-02-28  3990.0  3.250000  11960.000000 -0.262443 NaN\n",
       "        1986-03-31  3990.0  4.437500  16330.000000  0.359385 NaN\n",
       "        1986-04-30  3990.0  4.000000  15172.000000 -0.103792 NaN\n",
       "        1986-05-31  3990.0  3.109375  11793.859375 -0.227556 NaN"
      ]
     },
     "execution_count": 8,
     "metadata": {},
     "output_type": "execute_result"
    }
   ],
   "source": [
    "# one more issue before we merger the two data: there are duplicated obersations !\n",
    "stocks = stocks.sort_values(by = ['PERMNO','DATE','MV'], ascending = [True, True, False])\n",
    "cstat  = cstat.sort_values(by = ['PERMNO','DATE','SEQ'], ascending = [True, True, False])\n",
    "stocks = stocks[~stocks.index.duplicated(keep='first')]\n",
    "cstat  = cstat[~cstat.index.duplicated(keep='first')]\n",
    "stocks['XRET'] = stocks['RET'] - rf['RF']\n",
    "stocks = stocks.drop(\"RET\", axis = 1)\n",
    "stocks['IB']   = cstat['IB']\n",
    "stocks.head()"
   ]
  },
  {
   "cell_type": "markdown",
   "metadata": {},
   "source": [
    "### Now, we have finished the merger part. The data we will use the the following will be only the \"stocks\" data"
   ]
  },
  {
   "cell_type": "markdown",
   "metadata": {},
   "source": [
    "We can see there are many NaN values in the IB column, because the financial data is yearly based and the stock price data is monthly based. Monthly IB is impossible, so we will pad the financial data back for the whole year"
   ]
  },
  {
   "cell_type": "code",
   "execution_count": 9,
   "metadata": {},
   "outputs": [],
   "source": [
    "stocks['IBpad']  = stocks['IB'].groupby('PERMNO').fillna(method='pad', limit=15)"
   ]
  },
  {
   "cell_type": "markdown",
   "metadata": {},
   "source": [
    "Then use the IBpad to compute the PE ratio.\n",
    "\n",
    "Note that: we will use PE, MV and industry code(SICCD) to classify the stocks, so the previous's categories are based on previous information and we need to compute LAG_PE and LAG_MV, which are the previous month's data"
   ]
  },
  {
   "cell_type": "code",
   "execution_count": 10,
   "metadata": {},
   "outputs": [],
   "source": [
    "stocks['PE'] = stocks['MV']/stocks['IBpad']/1000\n",
    "stocks[\"LAG_PE\"] = stocks.groupby(\"PERMNO\")[\"PE\"].shift(1)\n",
    "stocks[\"LAG_MV\"] = stocks.groupby(\"PERMNO\")[\"MV\"].shift(1)\n",
    "stocks.drop([\"IB\", \"IBpad\", \"PE\", \"MV\"], axis=1, inplace=True)"
   ]
  },
  {
   "cell_type": "markdown",
   "metadata": {},
   "source": [
    "### We want invest for 10 years (from 2008 to 2018), so we will only use data from the year of 2003\n",
    "- e.g: use data from 2003 to 2007 to form trading pairs,and then invest for the following year of 2008"
   ]
  },
  {
   "cell_type": "code",
   "execution_count": 11,
   "metadata": {},
   "outputs": [
    {
     "data": {
      "text/html": [
       "<div>\n",
       "<style scoped>\n",
       "    .dataframe tbody tr th:only-of-type {\n",
       "        vertical-align: middle;\n",
       "    }\n",
       "\n",
       "    .dataframe tbody tr th {\n",
       "        vertical-align: top;\n",
       "    }\n",
       "\n",
       "    .dataframe thead th {\n",
       "        text-align: right;\n",
       "    }\n",
       "</style>\n",
       "<table border=\"1\" class=\"dataframe\">\n",
       "  <thead>\n",
       "    <tr style=\"text-align: right;\">\n",
       "      <th></th>\n",
       "      <th>PERMNO</th>\n",
       "      <th>SICCD</th>\n",
       "      <th>PRC</th>\n",
       "      <th>XRET</th>\n",
       "      <th>LAG_PE</th>\n",
       "      <th>LAG_MV</th>\n",
       "    </tr>\n",
       "    <tr>\n",
       "      <th>DATE</th>\n",
       "      <th></th>\n",
       "      <th></th>\n",
       "      <th></th>\n",
       "      <th></th>\n",
       "      <th></th>\n",
       "      <th></th>\n",
       "    </tr>\n",
       "  </thead>\n",
       "  <tbody>\n",
       "    <tr>\n",
       "      <th>2003-01-31</th>\n",
       "      <td>10001.0</td>\n",
       "      <td>4920.0</td>\n",
       "      <td>8.44</td>\n",
       "      <td>0.147143</td>\n",
       "      <td>13.594890</td>\n",
       "      <td>19046.440565</td>\n",
       "    </tr>\n",
       "    <tr>\n",
       "      <th>2003-02-28</th>\n",
       "      <td>10001.0</td>\n",
       "      <td>4920.0</td>\n",
       "      <td>8.74</td>\n",
       "      <td>0.034645</td>\n",
       "      <td>15.608879</td>\n",
       "      <td>21868.038913</td>\n",
       "    </tr>\n",
       "    <tr>\n",
       "      <th>2003-03-31</th>\n",
       "      <td>10001.0</td>\n",
       "      <td>4920.0</td>\n",
       "      <td>7.65</td>\n",
       "      <td>-0.110268</td>\n",
       "      <td>16.163697</td>\n",
       "      <td>22645.339407</td>\n",
       "    </tr>\n",
       "    <tr>\n",
       "      <th>2003-04-30</th>\n",
       "      <td>10001.0</td>\n",
       "      <td>4920.0</td>\n",
       "      <td>5.17</td>\n",
       "      <td>-0.325183</td>\n",
       "      <td>14.158780</td>\n",
       "      <td>19836.450247</td>\n",
       "    </tr>\n",
       "    <tr>\n",
       "      <th>2003-05-31</th>\n",
       "      <td>10001.0</td>\n",
       "      <td>4920.0</td>\n",
       "      <td>8.44</td>\n",
       "      <td>0.631595</td>\n",
       "      <td>9.568744</td>\n",
       "      <td>13405.810198</td>\n",
       "    </tr>\n",
       "  </tbody>\n",
       "</table>\n",
       "</div>"
      ],
      "text/plain": [
       "             PERMNO   SICCD   PRC      XRET     LAG_PE        LAG_MV\n",
       "DATE                                                                \n",
       "2003-01-31  10001.0  4920.0  8.44  0.147143  13.594890  19046.440565\n",
       "2003-02-28  10001.0  4920.0  8.74  0.034645  15.608879  21868.038913\n",
       "2003-03-31  10001.0  4920.0  7.65 -0.110268  16.163697  22645.339407\n",
       "2003-04-30  10001.0  4920.0  5.17 -0.325183  14.158780  19836.450247\n",
       "2003-05-31  10001.0  4920.0  8.44  0.631595   9.568744  13405.810198"
      ]
     },
     "execution_count": 11,
     "metadata": {},
     "output_type": "execute_result"
    }
   ],
   "source": [
    "stocks = stocks.reset_index(\"PERMNO\")\n",
    "after2003_stocks = stocks.loc[\"2003\":]\n",
    "after2003_stocks.head()"
   ]
  },
  {
   "cell_type": "markdown",
   "metadata": {},
   "source": [
    "### A bird view for the data after2003_stocks"
   ]
  },
  {
   "cell_type": "code",
   "execution_count": 12,
   "metadata": {},
   "outputs": [
    {
     "name": "stdout",
     "output_type": "stream",
     "text": [
      "<class 'pandas.core.frame.DataFrame'>\n",
      "DatetimeIndex: 795357 entries, 2003-01-31 to 2018-06-30\n",
      "Data columns (total 6 columns):\n",
      "PERMNO    795357 non-null float64\n",
      "SICCD     795237 non-null float64\n",
      "PRC       775263 non-null float64\n",
      "XRET      771713 non-null float64\n",
      "LAG_PE    736606 non-null float64\n",
      "LAG_MV    776756 non-null float64\n",
      "dtypes: float64(6)\n",
      "memory usage: 42.5 MB\n"
     ]
    }
   ],
   "source": [
    "after2003_stocks.info()"
   ]
  },
  {
   "cell_type": "code",
   "execution_count": 13,
   "metadata": {},
   "outputs": [],
   "source": [
    "# dropping a few missing values\n",
    "after2003_stocks.dropna(inplace=True)"
   ]
  },
  {
   "cell_type": "code",
   "execution_count": 14,
   "metadata": {},
   "outputs": [
    {
     "name": "stdout",
     "output_type": "stream",
     "text": [
      "number of stocks: 8152\n",
      "number of industry: 1003\n"
     ]
    }
   ],
   "source": [
    "number_of_stock = len(np.unique(after2003_stocks[\"PERMNO\"])) \n",
    "print (\"number of stocks: \" + str(number_of_stock))\n",
    "number_of_industry = len(np.unique(after2003_stocks[\"SICCD\"])) \n",
    "print (\"number of industry: \" + str(number_of_industry))"
   ]
  },
  {
   "cell_type": "markdown",
   "metadata": {},
   "source": [
    "We have 8152 stocks and 1003 industries, but we do not need that detailed industry classification. We will we only use the first two characters to get a rough industry classification"
   ]
  },
  {
   "cell_type": "code",
   "execution_count": 15,
   "metadata": {},
   "outputs": [
    {
     "name": "stdout",
     "output_type": "stream",
     "text": [
      "number of rough industry: 79\n"
     ]
    }
   ],
   "source": [
    "# for the industry code, we only use the first two characters to get a rough industry classification\n",
    "after2003_stocks[\"SICCD_2\"] = after2003_stocks[\"SICCD\"].apply(lambda x: str(x)[0:2])\n",
    "after2003_stocks = after2003_stocks.drop(\"SICCD\", axis = 1)\n",
    "number_of_industry_2 = len(np.unique(after2003_stocks[\"SICCD_2\"])) \n",
    "print (\"number of rough industry: \" + str(number_of_industry_2))"
   ]
  },
  {
   "cell_type": "markdown",
   "metadata": {},
   "source": [
    "8152 stocks are devided into 79 categories, looks good!"
   ]
  },
  {
   "cell_type": "markdown",
   "metadata": {},
   "source": [
    "# Let us summarize our dataset"
   ]
  },
  {
   "cell_type": "code",
   "execution_count": 16,
   "metadata": {},
   "outputs": [
    {
     "data": {
      "text/html": [
       "<div>\n",
       "<style scoped>\n",
       "    .dataframe tbody tr th:only-of-type {\n",
       "        vertical-align: middle;\n",
       "    }\n",
       "\n",
       "    .dataframe tbody tr th {\n",
       "        vertical-align: top;\n",
       "    }\n",
       "\n",
       "    .dataframe thead th {\n",
       "        text-align: right;\n",
       "    }\n",
       "</style>\n",
       "<table border=\"1\" class=\"dataframe\">\n",
       "  <thead>\n",
       "    <tr style=\"text-align: right;\">\n",
       "      <th></th>\n",
       "      <th>PERMNO</th>\n",
       "      <th>PRC</th>\n",
       "      <th>XRET</th>\n",
       "      <th>LAG_PE</th>\n",
       "      <th>LAG_MV</th>\n",
       "      <th>SICCD_2</th>\n",
       "    </tr>\n",
       "    <tr>\n",
       "      <th>DATE</th>\n",
       "      <th></th>\n",
       "      <th></th>\n",
       "      <th></th>\n",
       "      <th></th>\n",
       "      <th></th>\n",
       "      <th></th>\n",
       "    </tr>\n",
       "  </thead>\n",
       "  <tbody>\n",
       "    <tr>\n",
       "      <th>2003-01-31</th>\n",
       "      <td>10001.0</td>\n",
       "      <td>8.44</td>\n",
       "      <td>0.147143</td>\n",
       "      <td>13.594890</td>\n",
       "      <td>19046.440565</td>\n",
       "      <td>49</td>\n",
       "    </tr>\n",
       "    <tr>\n",
       "      <th>2003-02-28</th>\n",
       "      <td>10001.0</td>\n",
       "      <td>8.74</td>\n",
       "      <td>0.034645</td>\n",
       "      <td>15.608879</td>\n",
       "      <td>21868.038913</td>\n",
       "      <td>49</td>\n",
       "    </tr>\n",
       "    <tr>\n",
       "      <th>2003-03-31</th>\n",
       "      <td>10001.0</td>\n",
       "      <td>7.65</td>\n",
       "      <td>-0.110268</td>\n",
       "      <td>16.163697</td>\n",
       "      <td>22645.339407</td>\n",
       "      <td>49</td>\n",
       "    </tr>\n",
       "    <tr>\n",
       "      <th>2003-04-30</th>\n",
       "      <td>10001.0</td>\n",
       "      <td>5.17</td>\n",
       "      <td>-0.325183</td>\n",
       "      <td>14.158780</td>\n",
       "      <td>19836.450247</td>\n",
       "      <td>49</td>\n",
       "    </tr>\n",
       "    <tr>\n",
       "      <th>2003-05-31</th>\n",
       "      <td>10001.0</td>\n",
       "      <td>8.44</td>\n",
       "      <td>0.631595</td>\n",
       "      <td>9.568744</td>\n",
       "      <td>13405.810198</td>\n",
       "      <td>49</td>\n",
       "    </tr>\n",
       "  </tbody>\n",
       "</table>\n",
       "</div>"
      ],
      "text/plain": [
       "             PERMNO   PRC      XRET     LAG_PE        LAG_MV SICCD_2\n",
       "DATE                                                                \n",
       "2003-01-31  10001.0  8.44  0.147143  13.594890  19046.440565      49\n",
       "2003-02-28  10001.0  8.74  0.034645  15.608879  21868.038913      49\n",
       "2003-03-31  10001.0  7.65 -0.110268  16.163697  22645.339407      49\n",
       "2003-04-30  10001.0  5.17 -0.325183  14.158780  19836.450247      49\n",
       "2003-05-31  10001.0  8.44  0.631595   9.568744  13405.810198      49"
      ]
     },
     "execution_count": 16,
     "metadata": {},
     "output_type": "execute_result"
    }
   ],
   "source": [
    "after2003_stocks.head()"
   ]
  },
  {
   "cell_type": "markdown",
   "metadata": {},
   "source": [
    "- PERMNO : the stock tick, we have 8152 stocks here\n",
    "- PRC    : the stock price\n",
    "- XRET   : monthly excess return\n",
    "- LAG_PE : PE ratio of last month\n",
    "- LAG_MV : MV ratio of last month\n",
    "- SICCD_2: 79 industry code for 8152 stocks"
   ]
  },
  {
   "cell_type": "markdown",
   "metadata": {},
   "source": [
    "# Useful functions"
   ]
  },
  {
   "cell_type": "markdown",
   "metadata": {},
   "source": [
    "Devide data into five years training data and one year investing data, we will iterate for every six years' data"
   ]
  },
  {
   "cell_type": "code",
   "execution_count": 17,
   "metadata": {},
   "outputs": [],
   "source": [
    "def divide_data(six_years_data):\n",
    "    first_year = six_years_data.index.year.unique()[0]\n",
    "    fifth_year = six_years_data.index.year.unique()[4]\n",
    "    training_data = six_years_data.loc[str(first_year):str(fifth_year)]\n",
    "    test_data = six_years_data.loc[str(fifth_year+1):]\n",
    "    test_data.reset_index(inplace = True)\n",
    "    training_data.reset_index(inplace = True)\n",
    "    return training_data,test_data  #DATE  PERMNO PRC XRET LAG_PE LAG_MV SICCD_2"
   ]
  },
  {
   "cell_type": "code",
   "execution_count": 42,
   "metadata": {},
   "outputs": [
    {
     "data": {
      "text/html": [
       "<div>\n",
       "<style scoped>\n",
       "    .dataframe tbody tr th:only-of-type {\n",
       "        vertical-align: middle;\n",
       "    }\n",
       "\n",
       "    .dataframe tbody tr th {\n",
       "        vertical-align: top;\n",
       "    }\n",
       "\n",
       "    .dataframe thead th {\n",
       "        text-align: right;\n",
       "    }\n",
       "</style>\n",
       "<table border=\"1\" class=\"dataframe\">\n",
       "  <thead>\n",
       "    <tr style=\"text-align: right;\">\n",
       "      <th></th>\n",
       "      <th>DATE</th>\n",
       "      <th>PERMNO</th>\n",
       "      <th>PRC</th>\n",
       "      <th>XRET</th>\n",
       "      <th>LAG_PE</th>\n",
       "      <th>LAG_MV</th>\n",
       "      <th>SICCD_2</th>\n",
       "    </tr>\n",
       "  </thead>\n",
       "  <tbody>\n",
       "    <tr>\n",
       "      <th>0</th>\n",
       "      <td>2003-01-31</td>\n",
       "      <td>10001.0</td>\n",
       "      <td>8.44</td>\n",
       "      <td>0.147143</td>\n",
       "      <td>13.59489</td>\n",
       "      <td>19046.440565</td>\n",
       "      <td>49</td>\n",
       "    </tr>\n",
       "  </tbody>\n",
       "</table>\n",
       "</div>"
      ],
      "text/plain": [
       "        DATE   PERMNO   PRC      XRET    LAG_PE        LAG_MV SICCD_2\n",
       "0 2003-01-31  10001.0  8.44  0.147143  13.59489  19046.440565      49"
      ]
     },
     "execution_count": 42,
     "metadata": {},
     "output_type": "execute_result"
    }
   ],
   "source": [
    "# test this function\n",
    "training_data_test,test_data_test  = divide_data(after2003_stocks.loc[\"2003\":\"2008\"])\n",
    "training_data_test.head(1)"
   ]
  },
  {
   "cell_type": "markdown",
   "metadata": {},
   "source": [
    "Some stocks' industry codes may change, so we will replace it by the latest SICCD\n",
    "- Note that the input is training_data not the whole six years data, we will never know if the future industry code will change when we are at formation period"
   ]
  },
  {
   "cell_type": "code",
   "execution_count": 43,
   "metadata": {},
   "outputs": [],
   "source": [
    "def clean_SICCD(training_data): #PERMNO PRC XRET LAG_MV LAG_PE SICCD_2; index :DATE\n",
    "    latest_industry=pd.DataFrame(training_data.groupby(training_data[\"PERMNO\"])[\"SICCD_2\"].apply(lambda x:x.iloc[-1]))\n",
    "    training_data.set_index(\"PERMNO\",inplace=True )    \n",
    "    training_data[\"SICCD_2\"] = latest_industry[\"SICCD_2\"]\n",
    "    training_data.reset_index(inplace=True)\n",
    "    return training_data #PERMNO DATE PRC XRET LAG_PE LAG_MV SICCD_2"
   ]
  },
  {
   "cell_type": "markdown",
   "metadata": {},
   "source": [
    "In order decide stock classification, we need to create a seperate dataframe that contains the lagmv_quantile, lagpe_quantile and SICCD, this new dataframe will be used to create category boxes"
   ]
  },
  {
   "cell_type": "code",
   "execution_count": 44,
   "metadata": {},
   "outputs": [],
   "source": [
    "def quintiles(inser, num_q ):\n",
    "    outser = pd.qcut(inser, q=num_q, labels=range(1,num_q+1))\n",
    "    return outser\n",
    "\n",
    "def get_quantiles_table(training_data, num_mv =4,num_pe = 4): \n",
    "    quantiles_table = pd.DataFrame(training_data.groupby(training_data[\"PERMNO\"])[\"LAG_MV\"].mean())\n",
    "    quantiles_table[\"lagmv_quantile\"] = quintiles(quantiles_table['LAG_MV'], num_q = num_mv)\n",
    "    quantiles_table.rename(columns={\"LAG_MV\":\"avg_mv\"}, inplace=True)\n",
    "    quantiles_table[\"avg_pe\"] = training_data.groupby(training_data[\"PERMNO\"])[\"LAG_PE\"].mean()\n",
    "    quantiles_table[\"lagpe_quantile\"] = quintiles(quantiles_table['avg_pe'], num_q = num_pe)\n",
    "    #only one unique SICCD after former function clean_SICCD\n",
    "    quantiles_table[\"SICCD_2\"] = training_data.groupby(\n",
    "        training_data[\"PERMNO\"])[\"SICCD_2\"].apply(lambda x: float(x.unique()[0]))\n",
    "    quantiles_table.drop([\"avg_mv\", \"avg_pe\"], axis = 1, inplace=True)\n",
    "    quantiles_table.reset_index(inplace=True)\n",
    "    quantiles_table = quantiles_table.apply(pd.to_numeric, errors='coerce')\n",
    "    return quantiles_table #PERMNO lagmv_quantile lagpe_quantile SICCD_2"
   ]
  },
  {
   "cell_type": "code",
   "execution_count": 45,
   "metadata": {},
   "outputs": [
    {
     "name": "stdout",
     "output_type": "stream",
     "text": [
      "the shape of the quantiles_table is: (6237, 4)\n"
     ]
    },
    {
     "data": {
      "text/html": [
       "<div>\n",
       "<style scoped>\n",
       "    .dataframe tbody tr th:only-of-type {\n",
       "        vertical-align: middle;\n",
       "    }\n",
       "\n",
       "    .dataframe tbody tr th {\n",
       "        vertical-align: top;\n",
       "    }\n",
       "\n",
       "    .dataframe thead th {\n",
       "        text-align: right;\n",
       "    }\n",
       "</style>\n",
       "<table border=\"1\" class=\"dataframe\">\n",
       "  <thead>\n",
       "    <tr style=\"text-align: right;\">\n",
       "      <th></th>\n",
       "      <th>PERMNO</th>\n",
       "      <th>lagmv_quantile</th>\n",
       "      <th>lagpe_quantile</th>\n",
       "      <th>SICCD_2</th>\n",
       "    </tr>\n",
       "  </thead>\n",
       "  <tbody>\n",
       "    <tr>\n",
       "      <th>0</th>\n",
       "      <td>10001.0</td>\n",
       "      <td>1</td>\n",
       "      <td>1</td>\n",
       "      <td>49.0</td>\n",
       "    </tr>\n",
       "    <tr>\n",
       "      <th>1</th>\n",
       "      <td>10002.0</td>\n",
       "      <td>2</td>\n",
       "      <td>3</td>\n",
       "      <td>60.0</td>\n",
       "    </tr>\n",
       "    <tr>\n",
       "      <th>2</th>\n",
       "      <td>10012.0</td>\n",
       "      <td>1</td>\n",
       "      <td>2</td>\n",
       "      <td>36.0</td>\n",
       "    </tr>\n",
       "  </tbody>\n",
       "</table>\n",
       "</div>"
      ],
      "text/plain": [
       "    PERMNO  lagmv_quantile  lagpe_quantile  SICCD_2\n",
       "0  10001.0               1               1     49.0\n",
       "1  10002.0               2               3     60.0\n",
       "2  10012.0               1               2     36.0"
      ]
     },
     "execution_count": 45,
     "metadata": {},
     "output_type": "execute_result"
    }
   ],
   "source": [
    "# test this function\n",
    "quantiles_table = get_quantiles_table(training_data_test, num_mv =4,num_pe = 4)\n",
    "print(\"the shape of the quantiles_table is: \" + str(quantiles_table.shape))\n",
    "quantiles_table.head(3)"
   ]
  },
  {
   "cell_type": "markdown",
   "metadata": {},
   "source": [
    "Since we have the quantile information, we can then create category boxes to include stocks in the same caregory, and we will form stock pairs in the same caregory.\n",
    "- For example, one box may conatin all stocks with lagmv_quantile == 1, lagpe_quantile == 1 and SICCD_2 == 49.0, another box could be: lagmv_quantile == 1, lagpe_quantile == 1 and SICCD_2 == 49.0. \n",
    "- We will only consider stocks in the same category boxes, which is economicly reasonable"
   ]
  },
  {
   "cell_type": "code",
   "execution_count": 29,
   "metadata": {},
   "outputs": [],
   "source": [
    "# before this function, we need three for loop to get SICCD, mv_quantile, lagpe_quantile\n",
    "def get_one_box_data(training_data, quantiles_table, SICCD, lagmv_quantile, lagpe_quantile):\n",
    "    one_box = quantiles_table[(quantiles_table[\"SICCD_2\"] == SICCD) &\n",
    "                              (quantiles_table[\"lagmv_quantile\"] == lagmv_quantile) &\n",
    "                              (quantiles_table[\"lagpe_quantile\"] == lagpe_quantile) ]\n",
    "    one_box = one_box.set_index(\"PERMNO\")\n",
    "    one_box = one_box.index\n",
    "    one_box_data = training_data[training_data[\"PERMNO\"].isin(one_box)]\n",
    "    return one_box_data #PERMNO DATE PRC XRET LAG_PE LAG_MV SICCD_2"
   ]
  },
  {
   "cell_type": "code",
   "execution_count": 57,
   "metadata": {},
   "outputs": [
    {
     "name": "stdout",
     "output_type": "stream",
     "text": [
      "number of stocks in this test box is :8\n"
     ]
    },
    {
     "data": {
      "text/html": [
       "<div>\n",
       "<style scoped>\n",
       "    .dataframe tbody tr th:only-of-type {\n",
       "        vertical-align: middle;\n",
       "    }\n",
       "\n",
       "    .dataframe tbody tr th {\n",
       "        vertical-align: top;\n",
       "    }\n",
       "\n",
       "    .dataframe thead th {\n",
       "        text-align: right;\n",
       "    }\n",
       "</style>\n",
       "<table border=\"1\" class=\"dataframe\">\n",
       "  <thead>\n",
       "    <tr style=\"text-align: right;\">\n",
       "      <th></th>\n",
       "      <th>PERMNO</th>\n",
       "      <th>DATE</th>\n",
       "      <th>PRC</th>\n",
       "      <th>XRET</th>\n",
       "      <th>LAG_PE</th>\n",
       "      <th>LAG_MV</th>\n",
       "      <th>SICCD_2</th>\n",
       "    </tr>\n",
       "  </thead>\n",
       "  <tbody>\n",
       "    <tr>\n",
       "      <th>1882</th>\n",
       "      <td>10238.0</td>\n",
       "      <td>2003-01-31</td>\n",
       "      <td>5.59</td>\n",
       "      <td>-0.028826</td>\n",
       "      <td>-3.567535</td>\n",
       "      <td>360927.500000</td>\n",
       "      <td>60</td>\n",
       "    </tr>\n",
       "    <tr>\n",
       "      <th>1883</th>\n",
       "      <td>10238.0</td>\n",
       "      <td>2003-02-28</td>\n",
       "      <td>5.51</td>\n",
       "      <td>-0.015211</td>\n",
       "      <td>-3.468264</td>\n",
       "      <td>350884.309578</td>\n",
       "      <td>60</td>\n",
       "    </tr>\n",
       "    <tr>\n",
       "      <th>1884</th>\n",
       "      <td>10238.0</td>\n",
       "      <td>2003-03-31</td>\n",
       "      <td>5.45</td>\n",
       "      <td>-0.011889</td>\n",
       "      <td>-3.430611</td>\n",
       "      <td>347074.914417</td>\n",
       "      <td>60</td>\n",
       "    </tr>\n",
       "    <tr>\n",
       "      <th>1885</th>\n",
       "      <td>10238.0</td>\n",
       "      <td>2003-04-30</td>\n",
       "      <td>5.73</td>\n",
       "      <td>0.050376</td>\n",
       "      <td>-3.424821</td>\n",
       "      <td>346489.187874</td>\n",
       "      <td>60</td>\n",
       "    </tr>\n",
       "    <tr>\n",
       "      <th>1886</th>\n",
       "      <td>10238.0</td>\n",
       "      <td>2003-05-31</td>\n",
       "      <td>5.80</td>\n",
       "      <td>0.011316</td>\n",
       "      <td>-3.600776</td>\n",
       "      <td>364290.481213</td>\n",
       "      <td>60</td>\n",
       "    </tr>\n",
       "  </tbody>\n",
       "</table>\n",
       "</div>"
      ],
      "text/plain": [
       "       PERMNO       DATE   PRC      XRET    LAG_PE         LAG_MV SICCD_2\n",
       "1882  10238.0 2003-01-31  5.59 -0.028826 -3.567535  360927.500000      60\n",
       "1883  10238.0 2003-02-28  5.51 -0.015211 -3.468264  350884.309578      60\n",
       "1884  10238.0 2003-03-31  5.45 -0.011889 -3.430611  347074.914417      60\n",
       "1885  10238.0 2003-04-30  5.73  0.050376 -3.424821  346489.187874      60\n",
       "1886  10238.0 2003-05-31  5.80  0.011316 -3.600776  364290.481213      60"
      ]
     },
     "execution_count": 57,
     "metadata": {},
     "output_type": "execute_result"
    }
   ],
   "source": [
    "# test\n",
    "one_box_data_test = get_one_box_data(training_data, quantiles_table, SICCD=60.0, lagmv_quantile=2, lagpe_quantile=1)\n",
    "print(\"number of stocks in this test box is :\" + str(len(one_box_data_test[\"PERMNO\"].unique())))\n",
    "one_box_data_test.head()"
   ]
  },
  {
   "cell_type": "code",
   "execution_count": 58,
   "metadata": {},
   "outputs": [],
   "source": [
    "def calcu_alpha_beta(one_pair_data): # DATE PRC_x, PRC_y\n",
    "    result = smf.ols(\"PRC_y ~ PRC_x\", data = one_pair_data).fit()\n",
    "    alpha = result.params[0]\n",
    "    beta = result.params[1]\n",
    "    return alpha, beta"
   ]
  },
  {
   "cell_type": "markdown",
   "metadata": {},
   "source": [
    "Now that we have differen category boxes that tells us what are the stocks in the same category, then we need to compute every possible pairs infomation in order to choose the best pairs in the following parts\n",
    "\n",
    "The pair information includes:\n",
    "- PERMNO_x: stock one\n",
    "- PERMNO_y: stock two\n",
    "- alpha: $\\alpha$ in Y =  $\\alpha$ + $\\beta$ * X + $\\varepsilon$\n",
    "- beta: $\\beta$ in Y =  $\\alpha$ + $\\beta$ * X + $\\varepsilon$\n",
    "- num_intercept: how many time that the price difference (Y -  $\\alpha$ - $\\beta$) become zero"
   ]
  },
  {
   "cell_type": "markdown",
   "metadata": {},
   "source": [
    "More explaination about num_intercept in the model_two_return part"
   ]
  },
  {
   "cell_type": "code",
   "execution_count": 98,
   "metadata": {},
   "outputs": [],
   "source": [
    "def get_one_pair_info(stock_one,stock_two, price_info, p_value = 0.05): \n",
    "    stock_one_data = price_info.loc[price_info[\"PERMNO\"] == stock_one][[\"DATE\",\"PRC\"]]\n",
    "    stock_two_data = price_info.loc[price_info[\"PERMNO\"] == stock_two][[\"DATE\",\"PRC\"]]\n",
    "    one_pair_data = pd.merge(stock_one_data, stock_two_data, on = \"DATE\", how= \"inner\")\n",
    "    one_pair_data.dropna(inplace=True, axis = 0)\n",
    "    \n",
    "    # we will only focus on pair that have enough data, e.g. over half over the five years data are available\n",
    "    if len(one_pair_data) > 0.5*12*5:\n",
    "        x = one_pair_data[\"PRC_x\"]\n",
    "        y = one_pair_data[\"PRC_y\"]\n",
    "        # we will only focu on the pairs that pass co-integratio test\n",
    "        # which means the two stocks prices relationship is stable and trustable\n",
    "        pvalue= coint(x,y)[1]\n",
    "        if pvalue < p_value: \n",
    "            alpha, beta = calcu_alpha_beta(one_pair_data)\n",
    "            one_pair_data[\"distance\"] = one_pair_data[\"PRC_y\"] - one_pair_data[\"PRC_x\"]*beta - alpha\n",
    "            std_dis = np.std(one_pair_data[\"distance\"])\n",
    "            one_pair_data[\"positive_dis\"] = np.nan\n",
    "            for i in range(len(one_pair_data)):\n",
    "                if one_pair_data.loc[i,\"distance\"] >= 0:\n",
    "                    one_pair_data.loc[i, \"positive_dis\"] = 1\n",
    "                elif one_pair_data.loc[i,\"distance\"] < 0:\n",
    "                    one_pair_data.loc[i, \"positive_dis\"] = -1\n",
    "                    \n",
    "            num_intercept = 0        \n",
    "            one_pair_data[\"positive_dis_lag\"] = one_pair_data[\"positive_dis\"].shift()\n",
    "            for i in range(len(one_pair_data) - 1):\n",
    "                if one_pair_data.loc[i+1, \"positive_dis_lag\"] != one_pair_data.loc[i+1,\"positive_dis\"]:\n",
    "                    num_intercept = num_intercept + 1        \n",
    "        \n",
    "            one_pairs_info = pd.DataFrame({\"PERMNO_x\":[stock_one],\"PERMNO_y\":[stock_two],\n",
    "                                           \"std_dis\":[std_dis],\"alpha\":[alpha],\"beta\":[beta],\n",
    "                                           \"num_intercept\":[num_intercept]})\n",
    "            \n",
    "        # if the pair didn't pass the co-integration test\n",
    "        elif pvalue >= p_value:\n",
    "            one_pairs_info = pd.DataFrame({\"PERMNO_x\":[np.nan],\"PERMNO_y\":[np.nan],\n",
    "                                           \"std_dis\":[np.nan],\"alpha\":[np.nan],\"beta\":[np.nan],\n",
    "                                           \"num_intercept\":[np.nan]})\n",
    "    # if the data is not enough      \n",
    "    else:\n",
    "        one_pairs_info = pd.DataFrame({\"PERMNO_x\":[np.nan],\"PERMNO_y\":[np.nan],\n",
    "                                       \"std_dis\":[np.nan],\"alpha\":[np.nan],\"beta\":[np.nan],\n",
    "                                       \"num_intercept\":[np.nan]})\n",
    "    return one_pairs_info "
   ]
  },
  {
   "cell_type": "code",
   "execution_count": 99,
   "metadata": {},
   "outputs": [],
   "source": [
    "#get all pairs infomation of one box\n",
    "def get_box_pair_info(one_box_data): #one_box_data: PERMNO DATE SICCD PRC MV XRET LAG_PE NOR_PRC\n",
    "    box_pairs_info = pd.DataFrame(columns = [\"PERMNO_x\",\"PERMNO_y\",\"alpha\",\"beta\",\"num_intercept\"])\n",
    "    global one_pair_info\n",
    "    stock_code = one_box_data[\"PERMNO\"].unique()\n",
    "    #print(\"the total is: \" + str(len(stock_code)))\n",
    "    for i,stock_one in enumerate(stock_code):\n",
    "        for stock_two in stock_code[i+1:]:\n",
    "            one_pair_info = get_one_pair_info(stock_one,stock_two,one_box_data)\n",
    "            box_pairs_info = pd.concat([box_pairs_info, one_pair_info])\n",
    "    return box_pairs_info\n",
    "#PERMNO_x\",\"PERMNO_y\",\"alpha\",\"beta\",\"num_intercept\""
   ]
  },
  {
   "cell_type": "code",
   "execution_count": 100,
   "metadata": {},
   "outputs": [
    {
     "data": {
      "text/html": [
       "<div>\n",
       "<style scoped>\n",
       "    .dataframe tbody tr th:only-of-type {\n",
       "        vertical-align: middle;\n",
       "    }\n",
       "\n",
       "    .dataframe tbody tr th {\n",
       "        vertical-align: top;\n",
       "    }\n",
       "\n",
       "    .dataframe thead th {\n",
       "        text-align: right;\n",
       "    }\n",
       "</style>\n",
       "<table border=\"1\" class=\"dataframe\">\n",
       "  <thead>\n",
       "    <tr style=\"text-align: right;\">\n",
       "      <th></th>\n",
       "      <th>PERMNO_x</th>\n",
       "      <th>PERMNO_y</th>\n",
       "      <th>alpha</th>\n",
       "      <th>beta</th>\n",
       "      <th>num_intercept</th>\n",
       "      <th>std_dis</th>\n",
       "    </tr>\n",
       "  </thead>\n",
       "  <tbody>\n",
       "    <tr>\n",
       "      <th>0</th>\n",
       "      <td>10238.0</td>\n",
       "      <td>86250.0</td>\n",
       "      <td>3.519222</td>\n",
       "      <td>0.463207</td>\n",
       "      <td>10</td>\n",
       "      <td>0.632375</td>\n",
       "    </tr>\n",
       "  </tbody>\n",
       "</table>\n",
       "</div>"
      ],
      "text/plain": [
       "   PERMNO_x  PERMNO_y     alpha      beta num_intercept   std_dis\n",
       "0   10238.0   86250.0  3.519222  0.463207            10  0.632375"
      ]
     },
     "execution_count": 100,
     "metadata": {},
     "output_type": "execute_result"
    }
   ],
   "source": [
    "# test \n",
    "box_pairs_info_test = get_box_pair_info(one_box_data_test).dropna()\n",
    "box_pairs_info_test"
   ]
  },
  {
   "cell_type": "markdown",
   "metadata": {},
   "source": [
    "Compute the monthly return of input pair\n",
    "\n",
    "Note that we do not decide the buy and sell sign here, just compute the possible return for future use"
   ]
  },
  {
   "cell_type": "code",
   "execution_count": 101,
   "metadata": {},
   "outputs": [],
   "source": [
    "def compute_return(stock_one,stock_two,alpha,beta,std_dis,price_info, epsilon = 2): \n",
    "    stock_one_data = price_info.loc[price_info[\"PERMNO\"] == stock_one][[\"DATE\",\"PRC\",\"XRET\"]]\n",
    "    stock_two_data = price_info.loc[price_info[\"PERMNO\"] == stock_two][[\"DATE\",\"PRC\",\"XRET\"]]\n",
    "    one_pair_data = pd.merge(stock_one_data, stock_two_data, on = \"DATE\", how= \"inner\")\n",
    "    one_pair_data.dropna(inplace=True, axis = 0)\n",
    "    \n",
    "    one_pair_data[\"position\"] = 0\n",
    "    one_pair_data[\"distance\"] = one_pair_data[\"PRC_y\"] - one_pair_data[\"PRC_x\"]*beta - alpha\n",
    "    for i in range(len(one_pair_data)):    \n",
    "        if one_pair_data.loc[i,\"distance\"] > epsilon*std_dis:\n",
    "            one_pair_data.loc[i,\"position\"] = -1\n",
    "        elif one_pair_data.loc[i,\"distance\"] < -epsilon*std_dis:\n",
    "            one_pair_data.loc[i,\"position\"] = 1\n",
    "    \n",
    "    one_pair_data[\"return\"] = (one_pair_data[\"XRET_x\"] - one_pair_data[\"XRET_y\"])*one_pair_data[\"position\"]\n",
    "    one_pair_return = one_pair_data[[\"DATE\",\"return\"]]\n",
    "    return one_pair_return "
   ]
  },
  {
   "cell_type": "code",
   "execution_count": 102,
   "metadata": {},
   "outputs": [
    {
     "data": {
      "text/html": [
       "<div>\n",
       "<style scoped>\n",
       "    .dataframe tbody tr th:only-of-type {\n",
       "        vertical-align: middle;\n",
       "    }\n",
       "\n",
       "    .dataframe tbody tr th {\n",
       "        vertical-align: top;\n",
       "    }\n",
       "\n",
       "    .dataframe thead th {\n",
       "        text-align: right;\n",
       "    }\n",
       "</style>\n",
       "<table border=\"1\" class=\"dataframe\">\n",
       "  <thead>\n",
       "    <tr style=\"text-align: right;\">\n",
       "      <th></th>\n",
       "      <th>DATE</th>\n",
       "      <th>return</th>\n",
       "    </tr>\n",
       "  </thead>\n",
       "  <tbody>\n",
       "    <tr>\n",
       "      <th>0</th>\n",
       "      <td>2003-01-31</td>\n",
       "      <td>-0.108286</td>\n",
       "    </tr>\n",
       "    <tr>\n",
       "      <th>1</th>\n",
       "      <td>2003-02-28</td>\n",
       "      <td>-0.000000</td>\n",
       "    </tr>\n",
       "    <tr>\n",
       "      <th>2</th>\n",
       "      <td>2003-03-31</td>\n",
       "      <td>0.000000</td>\n",
       "    </tr>\n",
       "    <tr>\n",
       "      <th>3</th>\n",
       "      <td>2003-04-30</td>\n",
       "      <td>-0.000000</td>\n",
       "    </tr>\n",
       "    <tr>\n",
       "      <th>4</th>\n",
       "      <td>2003-05-31</td>\n",
       "      <td>-0.000000</td>\n",
       "    </tr>\n",
       "  </tbody>\n",
       "</table>\n",
       "</div>"
      ],
      "text/plain": [
       "        DATE    return\n",
       "0 2003-01-31 -0.108286\n",
       "1 2003-02-28 -0.000000\n",
       "2 2003-03-31  0.000000\n",
       "3 2003-04-30 -0.000000\n",
       "4 2003-05-31 -0.000000"
      ]
     },
     "execution_count": 102,
     "metadata": {},
     "output_type": "execute_result"
    }
   ],
   "source": [
    "# test: the specific numbers are from box_pairs_info_test\n",
    "return_test = compute_return(stock_one=10238.0,stock_two=86250.0,alpha=3.519222,beta=0.463207,\n",
    "                             std_dis=0.632375,price_info=one_box_data_test, epsilon = 2)\n",
    "return_test.head()"
   ]
  },
  {
   "cell_type": "markdown",
   "metadata": {},
   "source": [
    "## model_one_return：traditional method\n",
    "If two stocks Y and X price satisify the OLS model (we will conduct a co-integration test to ensure the relationship is stable)\n",
    "- Y =  $\\alpha$ + $\\beta$ * X + $\\varepsilon$, where $\\varepsilon$ is a white noise,\n",
    "\n",
    "We can trade Y - $\\alpha$ - $\\beta$ * X as a pair, and call Y - $\\alpha$ - $\\beta$ * X as distance:\n",
    "- When Y - $\\alpha$ - $\\beta$ * X is larger that 0, it is very possible to go back to 0; when Y - $\\alpha$ - $\\beta$ * X is less than 0, it will go up to 0\n",
    "- That is to say, when the distance is large, it will tend to converge to 0\n",
    "\n",
    "The best pair is when the standatd deviation of their price difference is very small, which shows that the two stocks move very close; \n",
    "\n",
    "Thus we can believe that when their price differen become large, it will converge eventually"
   ]
  },
  {
   "cell_type": "code",
   "execution_count": 113,
   "metadata": {},
   "outputs": [],
   "source": [
    "def model_one_return(all_pair, test_data, want_example_pairs = False):\n",
    "    model1 = all_pair.sort_values(\"std_dis\").head(100)\n",
    "    model1 = model1.reset_index(drop=True)\n",
    "    if want_example_pairs:\n",
    "        first = model1.loc[0, :]\n",
    "        second = model1.loc[1, :]\n",
    "        third = model1.loc[2, :]\n",
    "        print(\"the first pair of model 1 is:\")\n",
    "        print(first)\n",
    "        print(\"the second pair of model 1 is:\")\n",
    "        print(second)\n",
    "        print(\"the third pair of model 1 is:\")\n",
    "        print(third)\n",
    "        print(\"_____________________model 1 end___________________\")\n",
    "    all_return = pd.DataFrame()\n",
    "    all_return[\"DATE\"] = test_data[\"DATE\"]\n",
    "    all_return.drop_duplicates(inplace=True)\n",
    "    all_return.reset_index(inplace=True,drop=True)\n",
    "    \n",
    "    for i in range(len(model1)):\n",
    "        stock_one = model1.loc[i, \"PERMNO_x\"]\n",
    "        stock_two = model1.loc[i, \"PERMNO_y\"]\n",
    "        alpha = model1.loc[i, \"alpha\"]\n",
    "        beta = model1.loc[i, \"beta\"]\n",
    "        std_dis =  model1.loc[i, \"std_dis\"]\n",
    "        one_pair_return = compute_return(stock_one,stock_two,alpha,beta,std_dis,test_data)\n",
    "        all_return = pd.merge(all_return, one_pair_return, how= \"outer\", on = \"DATE\")       \n",
    "    all_return.set_index(\"DATE\", inplace=True)\n",
    "    all_return['portfolio_return'] = all_return.apply(lambda x: x.mean(), axis = 1)\n",
    "    portfolio_return = pd.DataFrame(all_return.loc[:,\"portfolio_return\"])\n",
    "    portfolio_return = portfolio_return.rename(columns = {\"portfolio_return\":\"return_model_1\"})\n",
    "    return portfolio_return"
   ]
  },
  {
   "cell_type": "code",
   "execution_count": 114,
   "metadata": {},
   "outputs": [
    {
     "data": {
      "text/html": [
       "<div>\n",
       "<style scoped>\n",
       "    .dataframe tbody tr th:only-of-type {\n",
       "        vertical-align: middle;\n",
       "    }\n",
       "\n",
       "    .dataframe tbody tr th {\n",
       "        vertical-align: top;\n",
       "    }\n",
       "\n",
       "    .dataframe thead th {\n",
       "        text-align: right;\n",
       "    }\n",
       "</style>\n",
       "<table border=\"1\" class=\"dataframe\">\n",
       "  <thead>\n",
       "    <tr style=\"text-align: right;\">\n",
       "      <th></th>\n",
       "      <th>return_model_1</th>\n",
       "    </tr>\n",
       "    <tr>\n",
       "      <th>DATE</th>\n",
       "      <th></th>\n",
       "    </tr>\n",
       "  </thead>\n",
       "  <tbody>\n",
       "    <tr>\n",
       "      <th>2008-01-31</th>\n",
       "      <td>0.144445</td>\n",
       "    </tr>\n",
       "    <tr>\n",
       "      <th>2008-02-29</th>\n",
       "      <td>NaN</td>\n",
       "    </tr>\n",
       "    <tr>\n",
       "      <th>2008-03-31</th>\n",
       "      <td>NaN</td>\n",
       "    </tr>\n",
       "    <tr>\n",
       "      <th>2008-04-30</th>\n",
       "      <td>NaN</td>\n",
       "    </tr>\n",
       "    <tr>\n",
       "      <th>2008-05-31</th>\n",
       "      <td>NaN</td>\n",
       "    </tr>\n",
       "  </tbody>\n",
       "</table>\n",
       "</div>"
      ],
      "text/plain": [
       "            return_model_1\n",
       "DATE                      \n",
       "2008-01-31        0.144445\n",
       "2008-02-29             NaN\n",
       "2008-03-31             NaN\n",
       "2008-04-30             NaN\n",
       "2008-05-31             NaN"
      ]
     },
     "execution_count": 114,
     "metadata": {},
     "output_type": "execute_result"
    }
   ],
   "source": [
    "return_1 = model_one_return(box_pairs_info_test, test_data_test, want_example_pairs = False)\n",
    "return_1.head()"
   ]
  },
  {
   "cell_type": "markdown",
   "metadata": {},
   "source": [
    "## model_two_return: Novel method to construct pairs\n",
    "- The best pair of traditional method: the standatd deviation of their price difference is very small\n",
    "- The problem of the traditional method: the two stocks move so close that they would barely diverge and we would have very few investment oppotunities \n",
    "#### Novel idea: \n",
    "- condition 1: the two stock price will intercept very often, which can tell us the two are similar stock\n",
    "- condition 2: the standard deviation of the two stock is large, so we can have investment oppotunities\n",
    "- NOTE: condition 1 is far more important than condition 2, cause we have to make sure the stocks are pair "
   ]
  },
  {
   "cell_type": "code",
   "execution_count": 116,
   "metadata": {},
   "outputs": [],
   "source": [
    "def model_two_return(all_pair, test_data, want_example_pairs = False):\n",
    "    all_pair = all_pair.sort_values(\"num_intercept\", ascending=False).head(200)\n",
    "    model2 = all_pair.sort_values(\"std_dis\", ascending=False).head(100)\n",
    "    model2 = model2.reset_index(drop=True)\n",
    "    if want_example_pairs:\n",
    "        first = model2.loc[0, :]\n",
    "        second = model2.loc[1, :]\n",
    "        third = model2.loc[2, :]\n",
    "        print(\"the first pair of model 2 is:\")\n",
    "        print(first)\n",
    "        print(\"the second pair of model 2 is:\")\n",
    "        print(second)\n",
    "        print(\"the third pair of model 2 is:\")\n",
    "        print(third)\n",
    "        print(\"_____________________model 2 end___________________\")\n",
    "    all_return = pd.DataFrame()\n",
    "    all_return[\"DATE\"] = test_data[\"DATE\"]\n",
    "    all_return.drop_duplicates(inplace=True)\n",
    "    all_return.reset_index(inplace=True,drop=True)\n",
    "    for i in range(len(model2)):\n",
    "        stock_one = model2.loc[i, \"PERMNO_x\"]\n",
    "        stock_two = model2.loc[i, \"PERMNO_y\"]\n",
    "        alpha = model2.loc[i, \"alpha\"]\n",
    "        beta = model2.loc[i, \"beta\"]\n",
    "        std_dis =  model2.loc[i, \"std_dis\"]\n",
    "        one_pair_return = compute_return(stock_one,stock_two,alpha,beta,std_dis,test_data)\n",
    "        all_return = pd.merge(all_return, one_pair_return, how= \"outer\", on = \"DATE\")       \n",
    "    all_return.set_index(\"DATE\", inplace=True)\n",
    "    all_return['portfolio_return'] = all_return.apply(lambda x: x.mean(), axis = 1)\n",
    "    portfolio_return = pd.DataFrame(all_return.loc[:,\"portfolio_return\"])\n",
    "    portfolio_return = portfolio_return.rename(columns = {\"portfolio_return\":\"return_model_2\"})\n",
    "    return portfolio_return"
   ]
  },
  {
   "cell_type": "markdown",
   "metadata": {},
   "source": [
    "# Use those perpared function and go to our rolling investment"
   ]
  },
  {
   "cell_type": "code",
   "execution_count": 126,
   "metadata": {},
   "outputs": [],
   "source": [
    "year_list = [2003,2004,2005,2006,2007,2008,2009,2010,2011,2012]\n",
    "all_test_result = pd.DataFrame()\n",
    "for year in year_list:\n",
    "    begin_year, end_year = str(year),str(year+5)\n",
    "    six_years_data = after2003_stocks.loc[begin_year:end_year]\n",
    "    training_data, test_data = divide_data(six_years_data)\n",
    "    training_data = clean_SICCD(training_data)\n",
    "    quantiles_table = get_quantiles_table(training_data)\n",
    "    \n",
    "    #get one box data\n",
    "    unique_lagmv_quantile = quantiles_table[\"lagmv_quantile\"].unique()\n",
    "    unique_lagpe_quantile = quantiles_table[\"lagpe_quantile\"].unique()\n",
    "    unique_industry = quantiles_table[\"SICCD_2\"].unique()\n",
    "    all_pairs_info = pd.DataFrame(columns = [\"PERMNO_x\",\"PERMNO_y\",\"alpha\",\"beta\",\"num_intercept\"])\n",
    "    for lagmv_quantile in unique_lagmv_quantile:\n",
    "        for lagpe_quantile in unique_lagpe_quantile: \n",
    "            for industry in unique_industry:\n",
    "                my_one_box_data = get_one_box_data(training_data, quantiles_table,industry,lagmv_quantile,lagpe_quantile)\n",
    "                #only boxes with more than one stock can construct pair\n",
    "                if len(my_one_box_data[\"PERMNO\"].unique()) > 1: \n",
    "                    #print(\"get one box data start_____________________________________\")\n",
    "                    box_pair_info = get_box_pair_info(my_one_box_data)\n",
    "                    all_pairs_info = pd.concat([all_pairs_info, box_pair_info])\n",
    "                    all_pairs_info = all_pairs_info.dropna()\n",
    "                    #print(all_pairs_info.dropna())\n",
    "    test_result = model_one_return(all_pairs_info, test_data)\n",
    "    test_result[\"return_model_2\"] = model_two_return(all_pairs_info, test_data)\n",
    "    all_test_result = pd.concat([all_test_result, test_result])\n"
   ]
  },
  {
   "cell_type": "code",
   "execution_count": 128,
   "metadata": {},
   "outputs": [
    {
     "data": {
      "text/plain": [
       "<matplotlib.axes._subplots.AxesSubplot at 0x1c3303a990>"
      ]
     },
     "execution_count": 128,
     "metadata": {},
     "output_type": "execute_result"
    },
    {
     "data": {
      "image/png": "[encoded data removed]",
      "text/plain": [
       "<Figure size 432x288 with 1 Axes>"
      ]
     },
     "metadata": {
      "needs_background": "light"
     },
     "output_type": "display_data"
    }
   ],
   "source": [
    "all_test_result.plot()"
   ]
  },
  {
   "cell_type": "code",
   "execution_count": 133,
   "metadata": {
    "scrolled": true
   },
   "outputs": [
    {
     "data": {
      "text/html": [
       "<div>\n",
       "<style scoped>\n",
       "    .dataframe tbody tr th:only-of-type {\n",
       "        vertical-align: middle;\n",
       "    }\n",
       "\n",
       "    .dataframe tbody tr th {\n",
       "        vertical-align: top;\n",
       "    }\n",
       "\n",
       "    .dataframe thead th {\n",
       "        text-align: right;\n",
       "    }\n",
       "</style>\n",
       "<table border=\"1\" class=\"dataframe\">\n",
       "  <thead>\n",
       "    <tr style=\"text-align: right;\">\n",
       "      <th></th>\n",
       "      <th>return_model_1</th>\n",
       "      <th>return_model_2</th>\n",
       "    </tr>\n",
       "  </thead>\n",
       "  <tbody>\n",
       "    <tr>\n",
       "      <th>mean</th>\n",
       "      <td>0.024857</td>\n",
       "      <td>0.015519</td>\n",
       "    </tr>\n",
       "    <tr>\n",
       "      <th>std</th>\n",
       "      <td>0.052401</td>\n",
       "      <td>0.011545</td>\n",
       "    </tr>\n",
       "    <tr>\n",
       "      <th>annual averge return</th>\n",
       "      <td>0.298279</td>\n",
       "      <td>0.186233</td>\n",
       "    </tr>\n",
       "    <tr>\n",
       "      <th>annual std</th>\n",
       "      <td>0.181522</td>\n",
       "      <td>0.039992</td>\n",
       "    </tr>\n",
       "    <tr>\n",
       "      <th>annual Sharp</th>\n",
       "      <td>1.643209</td>\n",
       "      <td>4.656701</td>\n",
       "    </tr>\n",
       "  </tbody>\n",
       "</table>\n",
       "</div>"
      ],
      "text/plain": [
       "                      return_model_1  return_model_2\n",
       "mean                        0.024857        0.015519\n",
       "std                         0.052401        0.011545\n",
       "annual averge return        0.298279        0.186233\n",
       "annual std                  0.181522        0.039992\n",
       "annual Sharp                1.643209        4.656701"
      ]
     },
     "execution_count": 133,
     "metadata": {},
     "output_type": "execute_result"
    }
   ],
   "source": [
    "analysis = all_test_result.describe()\n",
    "analysis = analysis.drop([\"count\",\"min\",\"25%\",\"50%\",\"75%\",\"max\"], axis=0)\n",
    "analysis.loc[\"annual averge return\"] = analysis.loc[\"mean\"] * 12\n",
    "analysis.loc[\"annual std\"] = analysis.loc[\"std\"] * np.sqrt(12)\n",
    "analysis.loc[\"annual Sharp\"] = (analysis.loc[\"mean\"]/ analysis.loc[\"std\"]) * np.sqrt(12)\n",
    "analysis"
   ]
  },
  {
   "cell_type": "markdown",
   "metadata": {},
   "source": [
    "it shows that the annual Sharp of our novel method increase for 3 times of the traditional method. And the increased Sharp is mainly from a more stable return"
   ]
  },
  {
   "cell_type": "code",
   "execution_count": null,
   "metadata": {},
   "outputs": [],
   "source": []
  }
 ],
 "metadata": {
  "kernelspec": {
   "display_name": "Python 2",
   "language": "python",
   "name": "python2"
  },
  "language_info": {
   "codemirror_mode": {
    "name": "ipython",
    "version": 2
   },
   "file_extension": ".py",
   "mimetype": "text/x-python",
   "name": "python",
   "nbconvert_exporter": "python",
   "pygments_lexer": "ipython2",
   "version": "2.7.15"
  }
 },
 "nbformat": 4,
 "nbformat_minor": 2
}
